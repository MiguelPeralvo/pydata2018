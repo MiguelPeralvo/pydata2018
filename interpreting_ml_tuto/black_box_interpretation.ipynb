{
  "nbformat_minor": 0, 
  "nbformat": 4, 
  "cells": [
    {
      "execution_count": null, 
      "cell_type": "code", 
      "source": [
        "%matplotlib inline"
      ], 
      "outputs": [], 
      "metadata": {
        "collapsed": false
      }
    }, 
    {
      "source": [
        "\nBlack-box interpretation of models: LIME\n=========================================\n\nSee also skater: a more modern variant relying on heavier dependencies\nhttps://github.com/datascienceinc/Skater\n\nFirst we need to install lime with the following shell line::\n\n    $ pip install --user lime\n\nLime uses the notion of \"explainers\", for different types of data,\ntabular, image, text.\n\n\n"
      ], 
      "cell_type": "markdown", 
      "metadata": {}
    }, 
    {
      "source": [
        "Regression on tabular data: factors of prices of houses\n--------------------------------------------------------\n\nLoad the data, create and fit a regressor\n\n"
      ], 
      "cell_type": "markdown", 
      "metadata": {}
    }, 
    {
      "execution_count": null, 
      "cell_type": "code", 
      "source": [
        "from sklearn import datasets, ensemble, model_selection\n\nboston = datasets.load_boston()\nX_train, X_test, y_train, y_test = model_selection.train_test_split(\n    boston.data, boston.target)\n\nregressor = ensemble.RandomForestRegressor()\nregressor.fit(X_train, y_train)"
      ], 
      "outputs": [], 
      "metadata": {
        "collapsed": false
      }
    }, 
    {
      "source": [
        "Inspect predictions for a few houses\n\nFor this, separate out the categorical features:\n\n"
      ], 
      "cell_type": "markdown", 
      "metadata": {}
    }, 
    {
      "execution_count": null, 
      "cell_type": "code", 
      "source": [
        "import numpy as np\ncategorical_features = [i for i, col in enumerate(boston.data.T)\n                        if np.unique(col).size < 10]"
      ], 
      "outputs": [], 
      "metadata": {
        "collapsed": false
      }
    }, 
    {
      "source": [
        "Now use a lime explainer for tabular data\n\n"
      ], 
      "cell_type": "markdown", 
      "metadata": {}
    }, 
    {
      "execution_count": null, 
      "cell_type": "code", 
      "source": [
        "from lime.lime_tabular import LimeTabularExplainer\nexplainer = LimeTabularExplainer(X_train,\n    feature_names=boston.feature_names,\n    class_names=['price'],\n    categorical_features=categorical_features,\n    mode='regression')\n\n# Now explain a prediction\nexp = explainer.explain_instance(X_test[25], regressor.predict,\n        num_features=10)\n\nexp.as_pyplot_figure()\nfrom matplotlib import pyplot as plt\nplt.tight_layout()"
      ], 
      "outputs": [], 
      "metadata": {
        "collapsed": false
      }
    }, 
    {
      "execution_count": null, 
      "cell_type": "code", 
      "source": [
        "print(exp.as_list())"
      ], 
      "outputs": [], 
      "metadata": {
        "collapsed": false
      }
    }, 
    {
      "source": [
        "Explain a few more predictions\n\n"
      ], 
      "cell_type": "markdown", 
      "metadata": {}
    }, 
    {
      "execution_count": null, 
      "cell_type": "code", 
      "source": [
        "for i in [7, 50, 66]:\n    exp = explainer.explain_instance(X_test[i], regressor.predict,\n            num_features=10)\n    exp.as_pyplot_figure()\n    plt.tight_layout()"
      ], 
      "outputs": [], 
      "metadata": {
        "collapsed": false
      }
    }
  ], 
  "metadata": {
    "kernelspec": {
      "display_name": "Python 2", 
      "name": "python2", 
      "language": "python"
    }, 
    "language_info": {
      "mimetype": "text/x-python", 
      "nbconvert_exporter": "python", 
      "name": "python", 
      "file_extension": ".py", 
      "version": "2.7.14", 
      "pygments_lexer": "ipython2", 
      "codemirror_mode": {
        "version": 2, 
        "name": "ipython"
      }
    }
  }
}