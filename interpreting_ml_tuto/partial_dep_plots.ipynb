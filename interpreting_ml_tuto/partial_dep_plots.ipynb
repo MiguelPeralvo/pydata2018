{
  "nbformat_minor": 0, 
  "nbformat": 4, 
  "cells": [
    {
      "execution_count": null, 
      "cell_type": "code", 
      "source": [
        "%matplotlib inline"
      ], 
      "outputs": [], 
      "metadata": {
        "collapsed": false
      }
    }, 
    {
      "source": [
        "\nPartial dependency plots\n==========================\n\nPartial dependency plots consists in evaluating the model prediction\nwhile varying one of more features and marginalizing (averaging) out the\neffect of the other features.\n\nThey can be computed by varying only one feature, or more\n\n"
      ], 
      "cell_type": "markdown", 
      "metadata": {}
    }, 
    {
      "execution_count": null, 
      "cell_type": "code", 
      "source": [
        "# Load and prepare the data\nfrom sklearn import datasets\nboston = datasets.load_boston()\n\nfrom sklearn.model_selection import train_test_split\nX_train, X_test, y_train, y_test = train_test_split(boston.data,\n                                                    boston.target,\n                                                    test_size=0.2,\n                                                    random_state=1)"
      ], 
      "outputs": [], 
      "metadata": {
        "collapsed": false
      }
    }, 
    {
      "source": [
        "Train a GBRT\n\n"
      ], 
      "cell_type": "markdown", 
      "metadata": {}
    }, 
    {
      "execution_count": null, 
      "cell_type": "code", 
      "source": [
        "from sklearn.ensemble import GradientBoostingRegressor\nclf = GradientBoostingRegressor(n_estimators=100, max_depth=4,\n                                learning_rate=0.1, loss='huber',\n                                random_state=1)\nclf.fit(X_train, y_train)"
      ], 
      "outputs": [], 
      "metadata": {
        "collapsed": false
      }
    }, 
    {
      "source": [
        "All-in-one plotting function\n-----------------------------\n\n"
      ], 
      "cell_type": "markdown", 
      "metadata": {}
    }, 
    {
      "execution_count": null, 
      "cell_type": "code", 
      "source": [
        "from sklearn.ensemble.partial_dependence import plot_partial_dependence\nimport matplotlib.pyplot as plt"
      ], 
      "outputs": [], 
      "metadata": {
        "collapsed": false
      }
    }, 
    {
      "source": [
        "Inspect feature 0, 3, 5, 6, and the interaction between 5 and 0, and 5\nand 3\n\n"
      ], 
      "cell_type": "markdown", 
      "metadata": {}
    }, 
    {
      "execution_count": null, 
      "cell_type": "code", 
      "source": [
        "target_features = [0, 3, 5, 6, (5, 0), (5, 3)]\nfig, axs = plot_partial_dependence(clf, X_train, target_features,\n                                    feature_names=boston.feature_names,\n                                    grid_resolution=30)\nplt.tight_layout()"
      ], 
      "outputs": [], 
      "metadata": {
        "collapsed": false
      }
    }, 
    {
      "source": [
        "Lower-level partial_dependence function\n----------------------------------------\n\n"
      ], 
      "cell_type": "markdown", 
      "metadata": {}
    }, 
    {
      "execution_count": null, 
      "cell_type": "code", 
      "source": [
        "target_feature = (5, 0)\nfrom sklearn.ensemble.partial_dependence import partial_dependence\npartial_deps, grid = partial_dependence(clf, target_feature,\n                                        X=X_train, grid_resolution=50)\nimport numpy as np\n# The 2D coordinate grid (for plotting)\nXX, YY = np.meshgrid(grid[0], grid[1])\n\n# Reshape the partial deps on the grid\nZ = partial_deps[0].reshape(list(map(np.size, grid))).T"
      ], 
      "outputs": [], 
      "metadata": {
        "collapsed": false
      }
    }, 
    {
      "source": [
        "3D plotting\n\n"
      ], 
      "cell_type": "markdown", 
      "metadata": {}
    }, 
    {
      "execution_count": null, 
      "cell_type": "code", 
      "source": [
        "from mpl_toolkits.mplot3d import Axes3D\n\nfig = plt.figure()\nax = Axes3D(fig)\nsurf = ax.plot_surface(XX, YY, Z, rstride=1, cstride=1,\n                        cmap=plt.cm.BuPu, edgecolor='k')\nax.set_xlabel(boston.feature_names[target_feature[0]])\nax.set_ylabel(boston.feature_names[target_feature[1]])\nax.set_zlabel('Partial dependence')\n#  pretty init view\nax.view_init(elev=22, azim=230)\nplt.colorbar(surf)"
      ], 
      "outputs": [], 
      "metadata": {
        "collapsed": false
      }
    }
  ], 
  "metadata": {
    "kernelspec": {
      "display_name": "Python 2", 
      "name": "python2", 
      "language": "python"
    }, 
    "language_info": {
      "mimetype": "text/x-python", 
      "nbconvert_exporter": "python", 
      "name": "python", 
      "file_extension": ".py", 
      "version": "2.7.14", 
      "pygments_lexer": "ipython2", 
      "codemirror_mode": {
        "version": 2, 
        "name": "ipython"
      }
    }
  }
}